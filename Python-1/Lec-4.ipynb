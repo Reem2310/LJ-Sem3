{
 "cells": [
  {
   "cell_type": "markdown",
   "metadata": {},
   "source": [
    "## While Loop"
   ]
  },
  {
   "cell_type": "code",
   "execution_count": 4,
   "metadata": {},
   "outputs": [
    {
     "name": "stdout",
     "output_type": "stream",
     "text": [
      "0\n",
      "1\n",
      "2\n",
      "3\n",
      "4\n",
      "Loop Completed\n"
     ]
    }
   ],
   "source": [
    "count = 0\n",
    "while count<5:\n",
    "    print(count)\n",
    "    count+=1\n",
    "else:\n",
    "    print(\"Loop Completed\")"
   ]
  },
  {
   "cell_type": "markdown",
   "metadata": {},
   "source": [
    "## Break Statement"
   ]
  },
  {
   "cell_type": "code",
   "execution_count": 6,
   "metadata": {},
   "outputs": [
    {
     "name": "stdout",
     "output_type": "stream",
     "text": [
      "0\n",
      "1\n",
      "2\n"
     ]
    }
   ],
   "source": [
    "for i in range(5):\n",
    "    if i == 3:\n",
    "        break\n",
    "    print(i)"
   ]
  },
  {
   "cell_type": "code",
   "execution_count": 10,
   "metadata": {},
   "outputs": [
    {
     "name": "stdout",
     "output_type": "stream",
     "text": [
      "0\n",
      "1\n",
      "2\n",
      "4\n",
      "Loop Completed\n"
     ]
    }
   ],
   "source": [
    "for i in range(5):\n",
    "    if i == 3:\n",
    "        continue\n",
    "    print(i)\n",
    "else:\n",
    "    print(\"Loop Completed\")"
   ]
  },
  {
   "cell_type": "code",
   "execution_count": 14,
   "metadata": {},
   "outputs": [
    {
     "name": "stdout",
     "output_type": "stream",
     "text": [
      "0\n",
      "1\n",
      "2\n",
      "3\n",
      "4\n"
     ]
    }
   ],
   "source": [
    "for i in range(5):\n",
    "    pass\n",
    "    print(i)"
   ]
  },
  {
   "cell_type": "markdown",
   "metadata": {},
   "source": [
    "# write a python program to cheak if a number is positive , negative or zero"
   ]
  },
  {
   "cell_type": "code",
   "execution_count": 18,
   "metadata": {},
   "outputs": [
    {
     "name": "stdout",
     "output_type": "stream",
     "text": [
      "Enter the number 1 :-2\n",
      "Number is Negative\n"
     ]
    }
   ],
   "source": [
    "a = int(input(\"Enter the number 1 :\"))\n",
    "if a>0:\n",
    "    print(\"Number is Positive\")\n",
    "elif a<0:\n",
    "    print(\"Number is Negative\")\n",
    "else:\n",
    "    print(\"Number is Zero\")"
   ]
  },
  {
   "cell_type": "markdown",
   "metadata": {},
   "source": [
    "### Write a  Program to Find largest of 3 number"
   ]
  },
  {
   "cell_type": "code",
   "execution_count": 23,
   "metadata": {},
   "outputs": [
    {
     "name": "stdout",
     "output_type": "stream",
     "text": [
      "Enter the number 1: 6\n",
      "Enter the number 2: 7\n",
      "Enter the number 3: 2\n",
      "The Number b is larger\n"
     ]
    }
   ],
   "source": [
    "a=int(input(\"Enter the number 1: \"))\n",
    "b=int(input(\"Enter the number 2: \"))\n",
    "c=int(input(\"Enter the number 3: \"))\n",
    "if a>b and a>c:\n",
    "    print(\"The Number a is larger\")\n",
    "elif b>a and b>c:\n",
    "    print(\"The Number b is larger\")\n",
    "else:\n",
    "    print(\"The Number c is larger\")"
   ]
  },
  {
   "cell_type": "markdown",
   "metadata": {},
   "source": [
    "### Write a Program to find the sum of natural given by user "
   ]
  },
  {
   "cell_type": "code",
   "execution_count": 29,
   "metadata": {},
   "outputs": [
    {
     "name": "stdout",
     "output_type": "stream",
     "text": [
      "Enter the number 1 : 101\n",
      "Sum of 101 natural number are 5151\n"
     ]
    }
   ],
   "source": [
    "a=int(input(\"Enter the number 1 : \"))\n",
    "ans = 0\n",
    "for i in range(a+1):\n",
    "    ans += i\n",
    "print(f\"Sum of {a} natural number are {ans}\")"
   ]
  },
  {
   "cell_type": "markdown",
   "metadata": {},
   "source": [
    "## Write a program  to create multiplication table"
   ]
  },
  {
   "cell_type": "code",
   "execution_count": 6,
   "metadata": {},
   "outputs": [
    {
     "name": "stdout",
     "output_type": "stream",
     "text": [
      "Enter the Number :1\n",
      "1 X 1 = 1\n",
      "1 X 2 = 2\n",
      "1 X 3 = 3\n",
      "1 X 4 = 4\n",
      "1 X 5 = 5\n",
      "1 X 6 = 6\n",
      "1 X 7 = 7\n",
      "1 X 8 = 8\n",
      "1 X 9 = 9\n",
      "1 X 10 = 10\n"
     ]
    }
   ],
   "source": [
    "a=int(input(\"Enter the Number :\"))\n",
    "for i in range(1,11):\n",
    "    print(f\"{a} X {i} = {a*i}\")"
   ]
  },
  {
   "cell_type": "markdown",
   "metadata": {},
   "source": [
    "### Write a python program to get 10 number as input and print the avg of the number"
   ]
  },
  {
   "cell_type": "code",
   "execution_count": 11,
   "metadata": {},
   "outputs": [
    {
     "name": "stdout",
     "output_type": "stream",
     "text": [
      " Enter the Number 1 : 10\n",
      "Enter 1 Number:1\n",
      "Enter 2 Number:2\n",
      "Enter 3 Number:3\n",
      "Enter 4 Number:4\n",
      "Enter 5 Number:5\n",
      "Enter 6 Number:6\n",
      "Enter 7 Number:7\n",
      "Enter 8 Number:8\n",
      "Enter 9 Number:9\n",
      "avg is 4.5\n"
     ]
    }
   ],
   "source": [
    "a=int(input(\" Enter the Number 1 : \"))\n",
    "ans = 0\n",
    "for i in range(1,a+1):\n",
    "    ans += int(input(f\"Enter {i} Number:\"))\n",
    "print(f\"avg is {ans/a}\")"
   ]
  },
  {
   "cell_type": "code",
   "execution_count": 14,
   "metadata": {},
   "outputs": [
    {
     "name": "stdout",
     "output_type": "stream",
     "text": [
      "Enter No : \n",
      "1\n",
      "Enter No : \n",
      "2\n",
      "Enter No : \n",
      "3\n",
      "Enter No : \n",
      "4\n",
      "Enter No : \n",
      "5\n",
      "Enter No : \n",
      "6\n",
      "Enter No : \n",
      "7\n",
      "Enter No : \n",
      "8\n",
      "Enter No : \n",
      "9\n",
      "Enter No : \n",
      "10\n",
      "5.5\n"
     ]
    }
   ],
   "source": [
    "sum = 0\n",
    "i = 10\n",
    "while i>0:\n",
    "    print(\"Enter No : \")\n",
    "    num=int(input())\n",
    "    sum=sum+num\n",
    "    i=i-1\n",
    "print(sum/10)"
   ]
  },
  {
   "cell_type": "markdown",
   "metadata": {},
   "source": [
    "# write  a program to find factorial number"
   ]
  },
  {
   "cell_type": "code",
   "execution_count": 16,
   "metadata": {},
   "outputs": [
    {
     "name": "stdout",
     "output_type": "stream",
     "text": [
      "Enter the number: 20\n",
      "20 Factorial Number is 2432902008176640000\n"
     ]
    }
   ],
   "source": [
    "a = int(input(\"Enter the number: \"))\n",
    "ans = 1\n",
    "for i in range(1,a+1):\n",
    "    ans *= i\n",
    "print(f\"{a} Factorial Number is {ans}\")"
   ]
  },
  {
   "cell_type": "code",
   "execution_count": 21,
   "metadata": {},
   "outputs": [
    {
     "data": {
      "text/plain": [
       "720"
      ]
     },
     "execution_count": 21,
     "metadata": {},
     "output_type": "execute_result"
    }
   ],
   "source": [
    "import math\n",
    "math.factorial(6)"
   ]
  },
  {
   "cell_type": "code",
   "execution_count": 22,
   "metadata": {},
   "outputs": [
    {
     "data": {
      "text/plain": [
       "'4321'"
      ]
     },
     "execution_count": 22,
     "metadata": {},
     "output_type": "execute_result"
    }
   ],
   "source": [
    "\"1234\"[::-1]"
   ]
  },
  {
   "cell_type": "markdown",
   "metadata": {},
   "source": [
    "# Write a program to check whethear a number is armstrong number or not"
   ]
  },
  {
   "cell_type": "code",
   "execution_count": 25,
   "metadata": {
    "scrolled": true
   },
   "outputs": [
    {
     "name": "stdout",
     "output_type": "stream",
     "text": [
      "Enter the Number : 100\n",
      "The Number is Not-Armstrong\n"
     ]
    }
   ],
   "source": [
    "num = int(input(\"Enter the Number : \"))\n",
    "sum = 0\n",
    "temp = num\n",
    "while temp>0:\n",
    "    digit=temp%10\n",
    "    sum+=digit**3\n",
    "    temp//=10\n",
    "if sum == num:\n",
    "    print(\"The Number is Armstrong \")\n",
    "else:\n",
    "    print(\"The Number is Not-Armstrong\")"
   ]
  },
  {
   "cell_type": "markdown",
   "metadata": {},
   "source": [
    "# Write a program to check whether a number is Prime Number or Not"
   ]
  },
  {
   "cell_type": "code",
   "execution_count": null,
   "metadata": {},
   "outputs": [],
   "source": [
    "num = int(input(\"Enter the number :\"))\n",
    "if num<=1:\n",
    "    print(\"Not a Prime Number\")\n",
    "else:\n",
    "    for i in range(2,int(num**0.5)+1):\n",
    "        if num%i==0:\n",
    "            print(\"Not a prime number\")\n",
    "            break\n",
    "        else:\n",
    "            print(\"Prime Number\")"
   ]
  },
  {
   "cell_type": "code",
   "execution_count": null,
   "metadata": {},
   "outputs": [],
   "source": []
  }
 ],
 "metadata": {
  "kernelspec": {
   "display_name": "Python 3",
   "language": "python",
   "name": "python3"
  },
  "language_info": {
   "codemirror_mode": {
    "name": "ipython",
    "version": 3
   },
   "file_extension": ".py",
   "mimetype": "text/x-python",
   "name": "python",
   "nbconvert_exporter": "python",
   "pygments_lexer": "ipython3",
   "version": "3.8.5"
  }
 },
 "nbformat": 4,
 "nbformat_minor": 4
}
