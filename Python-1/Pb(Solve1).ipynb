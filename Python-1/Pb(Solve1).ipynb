{
 "cells": [
  {
   "cell_type": "code",
   "execution_count": 9,
   "metadata": {},
   "outputs": [
    {
     "name": "stdout",
     "output_type": "stream",
     "text": [
      "30\n"
     ]
    }
   ],
   "source": [
    "def fun1(num):\n",
    "    return num + 25\n",
    "num=5\n",
    "print(fun1(num))"
   ]
  },
  {
   "cell_type": "code",
   "execution_count": 11,
   "metadata": {},
   "outputs": [],
   "source": [
    "def fib(x):\n",
    "    global num_fib_calls\n",
    "    num_fib_calls += 1\n",
    "    if x == 0 or x == 1:\n",
    "        return 1\n",
    "    else:\n",
    "        return fib(x-1) + fib(x-2)\n",
    "def test_fib(n):\n",
    "    for i in range(n+1):\n",
    "        global num_fib_calls\n",
    "        num_fib_calls = 0\n",
    "        print('fib of', i, '=', fib(i))\n",
    "        print('fib called', num_fib_calls, 'times.')"
   ]
  },
  {
   "cell_type": "code",
   "execution_count": 12,
   "metadata": {},
   "outputs": [
    {
     "name": "stdout",
     "output_type": "stream",
     "text": [
      "fib of 0 = 1\n",
      "fib called 1 times.\n",
      "fib of 1 = 1\n",
      "fib called 1 times.\n",
      "fib of 2 = 2\n",
      "fib called 3 times.\n",
      "fib of 3 = 3\n",
      "fib called 5 times.\n",
      "fib of 4 = 5\n",
      "fib called 9 times.\n",
      "fib of 5 = 8\n",
      "fib called 15 times.\n",
      "fib of 6 = 13\n",
      "fib called 25 times.\n"
     ]
    }
   ],
   "source": [
    "test_fib(6)"
   ]
  },
  {
   "cell_type": "code",
   "execution_count": 26,
   "metadata": {},
   "outputs": [
    {
     "name": "stdout",
     "output_type": "stream",
     "text": [
      "400 0\n"
     ]
    }
   ],
   "source": [
    "def fun(a=5,b=10):\n",
    "    print(a**2,b//a)\n",
    "fun(20)"
   ]
  },
  {
   "cell_type": "markdown",
   "metadata": {},
   "source": [
    "### Write a program that enter the single digit int number and produce all possible 6 digit number perwish the product of the digit is equal to entered number"
   ]
  },
  {
   "cell_type": "code",
   "execution_count": 34,
   "metadata": {},
   "outputs": [],
   "source": [
    "def find_number(product):\n",
    "    for a in range(1,10):\n",
    "        for b in range(1,10):\n",
    "            for c in range(1,10):\n",
    "                for d in range(1,10):\n",
    "                    for e in range(1,10):\n",
    "                        for f in range(1,10):\n",
    "                            if a*b*c*d*e*f==product:\n",
    "                                print(a*100000+b*10000+c*1000+d*100+e*10+f)\n"
   ]
  },
  {
   "cell_type": "code",
   "execution_count": 35,
   "metadata": {},
   "outputs": [
    {
     "name": "stdout",
     "output_type": "stream",
     "text": [
      "111115\n",
      "111151\n",
      "111511\n",
      "115111\n",
      "151111\n",
      "511111\n"
     ]
    }
   ],
   "source": [
    "find_number(5)"
   ]
  },
  {
   "cell_type": "markdown",
   "metadata": {},
   "source": [
    "### WAP that prompt to user enter the number and stop only weather user can stop after this print maximum even , minimum even and maximum odd,minimum odd and avg odd and even among all the number"
   ]
  },
  {
   "cell_type": "code",
   "execution_count": 40,
   "metadata": {},
   "outputs": [
    {
     "name": "stdout",
     "output_type": "stream",
     "text": [
      "Enter a number (or 'stop' to end): 50\n",
      "Enter a number (or 'stop' to end): 30\n",
      "Enter a number (or 'stop' to end): 80\n",
      "Enter a number (or 'stop' to end): stop\n",
      "Even numbers: min=30, max=80, avg=53.333333333333336\n",
      "No odd numbers were entered.\n"
     ]
    }
   ],
   "source": [
    "min_even=None\n",
    "max_even=None\n",
    "sum_even=0\n",
    "sum_odd=0\n",
    "count_even=0\n",
    "count_odd=0\n",
    "min_odd=None\n",
    "max_odd=None\n",
    "\n",
    "while True:\n",
    "    user_input = input(\"Enter a number (or 'stop' to end): \")\n",
    "    if user_input.lower() == 'stop':\n",
    "        break\n",
    "    \n",
    "    try:\n",
    "        number = int(user_input)\n",
    "    except ValueError:\n",
    "        print(\"Invalid input. Please enter a valid integer or 'stop'.\")\n",
    "        continue # Skip to the next loop iteration\n",
    "\n",
    "    if number % 2 == 0:\n",
    "        if min_even is None or number < min_even:\n",
    "            min_even = number\n",
    "        if max_even is None or number > max_even:\n",
    "            max_even = number\n",
    "        sum_even += number\n",
    "        count_even += 1\n",
    "    else:\n",
    "        if min_odd is None or number < min_odd:\n",
    "            min_odd = number\n",
    "        if max_odd is None or number > max_odd:\n",
    "            max_odd = number\n",
    "        sum_odd += number\n",
    "        count_odd += 1\n",
    "\n",
    "# Calculate and print the results\n",
    "if count_even > 0:\n",
    "    avg_even = sum_even / count_even\n",
    "    print(f\"Even numbers: min={min_even}, max={max_even}, avg={avg_even}\")\n",
    "else:\n",
    "    print(\"No even numbers were entered.\")\n",
    "\n",
    "if count_odd > 0:\n",
    "    avg_odd = sum_odd / count_odd\n",
    "    print(f\"Odd numbers: min={min_odd}, max={max_odd}, avg={avg_odd}\")\n",
    "else:\n",
    "    print(\"No odd numbers were entered.\")\n"
   ]
  },
  {
   "cell_type": "code",
   "execution_count": null,
   "metadata": {},
   "outputs": [],
   "source": [
    "\n"
   ]
  }
 ],
 "metadata": {
  "kernelspec": {
   "display_name": "Python 3",
   "language": "python",
   "name": "python3"
  },
  "language_info": {
   "codemirror_mode": {
    "name": "ipython",
    "version": 3
   },
   "file_extension": ".py",
   "mimetype": "text/x-python",
   "name": "python",
   "nbconvert_exporter": "python",
   "pygments_lexer": "ipython3",
   "version": "3.8.5"
  }
 },
 "nbformat": 4,
 "nbformat_minor": 4
}
