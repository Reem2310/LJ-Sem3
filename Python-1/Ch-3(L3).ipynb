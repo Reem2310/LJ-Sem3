{
 "cells": [
  {
   "cell_type": "code",
   "execution_count": 11,
   "metadata": {},
   "outputs": [
    {
     "name": "stdout",
     "output_type": "stream",
     "text": [
      "Enter the Value : 5\n",
      "$ * * * \n",
      "* $   * \n",
      "*   $ * \n",
      "* * * $ \n"
     ]
    }
   ],
   "source": [
    "n=int(input(\"Enter the Value : \"))\n",
    "for i in range(1,n):\n",
    "    for j in range(1,n):\n",
    "        if i==j:\n",
    "            print(\"$\",end=\" \")\n",
    "        elif i==1 or j==1 or i==n-1 or j==n-1:\n",
    "            print(\"*\",end=\" \")\n",
    "        else :\n",
    "            print(\" \",end=\" \")\n",
    "    print()"
   ]
  },
  {
   "cell_type": "markdown",
   "metadata": {},
   "source": [
    "### Write a Program to in a farm there are 10 animals including ship and hen the farmer from far away farmer can see 26 leg and 10 head find out , how many ship and hen are there ?\n"
   ]
  },
  {
   "cell_type": "code",
   "execution_count": 22,
   "metadata": {},
   "outputs": [
    {
     "name": "stdout",
     "output_type": "stream",
     "text": [
      "Hen 7\n",
      "sheep 3\n"
     ]
    }
   ],
   "source": [
    "head = 10\n",
    "legs = 26\n",
    "\n",
    "for sheep in range(head+1):\n",
    "    hen = head - sheep\n",
    "    leg = (sheep * 4 )+(hen * 2)\n",
    "    if leg==legs:\n",
    "        print(\"Hen\",hen)\n",
    "        print(\"sheep\",sheep)\n",
    "        break"
   ]
  },
  {
   "cell_type": "markdown",
   "metadata": {},
   "source": [
    "### Number 99 as a property such that sum of its digits and product of its digits is the final answer when added gives the original number find such numbers upto 10000"
   ]
  },
  {
   "cell_type": "code",
   "execution_count": 26,
   "metadata": {},
   "outputs": [],
   "source": [
    "def calc(num):\n",
    "    digitsum=0\n",
    "    digitprod=1\n",
    "    temp=num\n",
    "    if temp == 0:\n",
    "        return 0,0\n",
    "    while temp>0:\n",
    "        digit=temp%10\n",
    "        digitsum+=digit\n",
    "        digitprod*=digit\n",
    "        temp//=10\n",
    "    return digitsum,digitprod\n",
    "\n"
   ]
  },
  {
   "cell_type": "code",
   "execution_count": 32,
   "metadata": {},
   "outputs": [
    {
     "name": "stdout",
     "output_type": "stream",
     "text": [
      "19\n",
      "29\n",
      "39\n",
      "49\n",
      "59\n",
      "69\n",
      "79\n",
      "89\n",
      "99\n"
     ]
    }
   ],
   "source": [
    "for num in range(10,10000):\n",
    "    digitsum,digitprod=calc(num)\n",
    "    if digitsum+digitprod==num:\n",
    "        print(num)"
   ]
  },
  {
   "cell_type": "markdown",
   "metadata": {},
   "source": [
    "### Write a program to find the smallest positive number in which when last digit is removed and place at the the new number so from is excatly 1.5 times the original number"
   ]
  },
  {
   "cell_type": "code",
   "execution_count": 34,
   "metadata": {},
   "outputs": [
    {
     "data": {
      "text/plain": [
       "285714"
      ]
     },
     "execution_count": 34,
     "metadata": {},
     "output_type": "execute_result"
    }
   ],
   "source": [
    "def smallest():\n",
    "    n=1\n",
    "    while True:\n",
    "        digit = n%10\n",
    "        rest = n//10\n",
    "        k=0\n",
    "        temp=n\n",
    "        while temp>0:\n",
    "            temp//=10\n",
    "            k+=1\n",
    "        new = digit * (10 ** (k-1))+rest\n",
    "        if new == 1.5*n:\n",
    "            return n \n",
    "        n+=1\n",
    "smallest()"
   ]
  },
  {
   "cell_type": "code",
   "execution_count": 1,
   "metadata": {},
   "outputs": [
    {
     "name": "stdout",
     "output_type": "stream",
     "text": [
      "    1   2   3   4   5   6   7   8   9   10 \n",
      "      2   3   4   5   6   7   8   9   10 \n",
      "        3   4   5   6   7   8   9   10 \n",
      "          4   5   6   7   8   9   10 \n",
      "            5   6   7   8   9   10 \n",
      "              6   7   8   9   10 \n",
      "                7   8   9   10 \n",
      "                  8   9   10 \n",
      "                    9   10 \n",
      "                      10 \n",
      "                    10   9 \n",
      "                  10   9   8 \n",
      "                10   9   8   7 \n",
      "              10   9   8   7   6 \n",
      "            10   9   8   7   6   5 \n",
      "          10   9   8   7   6   5   4 \n",
      "        10   9   8   7   6   5   4   3 \n",
      "      10   9   8   7   6   5   4   3   2 \n",
      "    10   9   8   7   6   5   4   3   2   1 \n"
     ]
    }
   ],
   "source": [
    "for i in range(1,11):\n",
    "    for k in range(i):\n",
    "        print(\" \",end=\" \")\n",
    "    for j in range(i,11):\n",
    "        print(\" \",j,end=\" \")\n",
    "    print()\n",
    "    \n",
    "for i in range(2,11):\n",
    "    for k in range(11,i,-1):\n",
    "        print(\" \",end=\" \")\n",
    "    for j in range(10,10-i,-1):\n",
    "        print(\" \",j,end=\" \")\n",
    "    print()"
   ]
  },
  {
   "cell_type": "code",
   "execution_count": null,
   "metadata": {},
   "outputs": [],
   "source": []
  }
 ],
 "metadata": {
  "kernelspec": {
   "display_name": "Python 3 (ipykernel)",
   "language": "python",
   "name": "python3"
  },
  "language_info": {
   "codemirror_mode": {
    "name": "ipython",
    "version": 3
   },
   "file_extension": ".py",
   "mimetype": "text/x-python",
   "name": "python",
   "nbconvert_exporter": "python",
   "pygments_lexer": "ipython3",
   "version": "3.13.5"
  }
 },
 "nbformat": 4,
 "nbformat_minor": 4
}
