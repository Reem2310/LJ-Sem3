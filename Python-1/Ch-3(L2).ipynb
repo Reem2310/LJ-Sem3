{
 "cells": [
  {
   "cell_type": "code",
   "execution_count": 4,
   "metadata": {},
   "outputs": [
    {
     "name": "stdout",
     "output_type": "stream",
     "text": [
      "6\n"
     ]
    }
   ],
   "source": [
    "a=0\n",
    "b=6\n",
    "x=(a or b) or (a and a) or (a and b)\n",
    "print(x)"
   ]
  },
  {
   "cell_type": "code",
   "execution_count": 7,
   "metadata": {},
   "outputs": [
    {
     "data": {
      "text/plain": [
       "512"
      ]
     },
     "execution_count": 7,
     "metadata": {},
     "output_type": "execute_result"
    }
   ],
   "source": [
    "2**(3**2)\n",
    "(2**3)**2\n",
    "2**3**2\n"
   ]
  },
  {
   "cell_type": "code",
   "execution_count": 8,
   "metadata": {},
   "outputs": [
    {
     "data": {
      "text/plain": [
       "512"
      ]
     },
     "execution_count": 8,
     "metadata": {},
     "output_type": "execute_result"
    }
   ],
   "source": [
    "(2**3)**2\n",
    "2**3**2"
   ]
  },
  {
   "cell_type": "markdown",
   "metadata": {},
   "source": [
    "### Write a program to ask to user for the time and am or pm and how many hours the user wants to go in the future the output should be of the format am or pm\n"
   ]
  },
  {
   "cell_type": "code",
   "execution_count": 16,
   "metadata": {},
   "outputs": [
    {
     "name": "stdout",
     "output_type": "stream",
     "text": [
      "Enter the Hour(1-12) : 6\n",
      "AM or PM: pm\n",
      "Hours ahead : 12\n",
      "6AM\n"
     ]
    }
   ],
   "source": [
    "h=int(input(\"Enter the Hour(1-12) : \"))\n",
    "p=input(\"AM or PM: \").strip().upper()\n",
    "f=int(input(\"Hours ahead : \"))\n",
    "\n",
    "if p==\"PM\" and h!=12:\n",
    "    h+=12\n",
    "elif p==\"AM\" and h==12:\n",
    "    h=0\n",
    "t=(h+f)%24\n",
    "display_hour=12 if t%12==0 else t%12\n",
    "display_period=\"AM\" if t<12 else \"PM\"\n",
    "print(f\"{display_hour} {display_period}\")"
   ]
  },
  {
   "cell_type": "markdown",
   "metadata": {},
   "source": [
    "### In a bank if we put 1 rupeeson monday and increase by 1 rupees everyday upto sunday , in subsequent monday add 1 rupee more in the bank"
   ]
  },
  {
   "cell_type": "code",
   "execution_count": 13,
   "metadata": {},
   "outputs": [
    {
     "name": "stdout",
     "output_type": "stream",
     "text": [
      "Enter the number25\n",
      "127\n"
     ]
    }
   ],
   "source": [
    "n=int(input(\"Enter the number\"))\n",
    "mon_amount=1\n",
    "amount=1\n",
    "ans=1\n",
    "\n",
    "for i in range(2,n+1):\n",
    "    if i%7==1:\n",
    "        mon_amount+=1\n",
    "        amount=mon_amount\n",
    "        ans+=amount\n",
    "    else:\n",
    "        amount+=1\n",
    "        ans+=amount\n",
    "else:\n",
    "    print(ans)"
   ]
  },
  {
   "cell_type": "code",
   "execution_count": null,
   "metadata": {},
   "outputs": [],
   "source": [
    "n = int(input(\"enter the rows\"))\n",
    "for i in range(n):\n",
    "    for j in range(i):\n",
    "        print(\"*\",end=\"\")\n",
    "    print()"
   ]
  },
  {
   "cell_type": "code",
   "execution_count": 19,
   "metadata": {},
   "outputs": [
    {
     "name": "stdout",
     "output_type": "stream",
     "text": [
      "Enter the rows5\n",
      "\n",
      "j\n",
      "jj\n",
      "jjj\n",
      "jjjj\n"
     ]
    }
   ],
   "source": [
    "n = int(input(\"Enter the rows\"))\n",
    "for i in range(n):\n",
    "    for j in range(i):\n",
    "        print(\"j\",end=\"\")\n",
    "    print()"
   ]
  },
  {
   "cell_type": "code",
   "execution_count": 2,
   "metadata": {},
   "outputs": [
    {
     "name": "stdout",
     "output_type": "stream",
     "text": [
      "Enter the rows5\n",
      "RRRRR\n",
      "RRRR\n",
      "RRR\n",
      "RR\n",
      "R\n"
     ]
    }
   ],
   "source": [
    "n = int(input(\"Enter the rows\"))\n",
    "for i in range(n):\n",
    "    for j in range(n-i):\n",
    "        print(\"R\",end=\"\")\n",
    "    print()"
   ]
  },
  {
   "cell_type": "code",
   "execution_count": 5,
   "metadata": {},
   "outputs": [
    {
     "name": "stdout",
     "output_type": "stream",
     "text": [
      "Enter the rows5\n",
      "  * * * * * \n",
      "    * * * * \n",
      "      * * * \n",
      "        * * \n",
      "          * \n"
     ]
    }
   ],
   "source": [
    "n = int(input(\"Enter the rows\"))\n",
    "for i in range(1,n+1):\n",
    "    for k in range(1,i+1):\n",
    "        print(' ',end=\" \")\n",
    "    for j in range(i,n+1):\n",
    "        print(\"*\",end=\" \")\n",
    "    print()"
   ]
  },
  {
   "cell_type": "code",
   "execution_count": 16,
   "metadata": {},
   "outputs": [
    {
     "name": "stdout",
     "output_type": "stream",
     "text": [
      "        *         \n",
      "      *   *       \n",
      "    * * * * *     \n",
      "  *           *   \n",
      "*               * \n"
     ]
    }
   ],
   "source": [
    "for i in range(5):\n",
    "    for j in range(9):\n",
    "        if(i==0 and j==4)or\\\n",
    "        (i==1 and (j==3 or j==5))or\\\n",
    "        (i==2 and (2<=j<=6))or\\\n",
    "        (i==3 and (j==1 or j==7))or\\\n",
    "        (i==4 and (j==0 or j==8)):\n",
    "            print(\"*\",end=\" \")\n",
    "        else:\n",
    "            print(\" \",end=\" \")\n",
    "    print()\n",
    "    \n",
    "        \n",
    "    "
   ]
  },
  {
   "cell_type": "code",
   "execution_count": null,
   "metadata": {},
   "outputs": [],
   "source": []
  }
 ],
 "metadata": {
  "kernelspec": {
   "display_name": "Python 3 (ipykernel)",
   "language": "python",
   "name": "python3"
  },
  "language_info": {
   "codemirror_mode": {
    "name": "ipython",
    "version": 3
   },
   "file_extension": ".py",
   "mimetype": "text/x-python",
   "name": "python",
   "nbconvert_exporter": "python",
   "pygments_lexer": "ipython3",
   "version": "3.13.5"
  }
 },
 "nbformat": 4,
 "nbformat_minor": 4
}
